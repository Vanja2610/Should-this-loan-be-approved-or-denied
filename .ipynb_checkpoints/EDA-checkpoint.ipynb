{
 "cells": [
  {
   "cell_type": "code",
   "execution_count": 1,
   "metadata": {},
   "outputs": [],
   "source": [
    "import pandas as pd\n",
    "import numpy as np\n",
    "import matplotlib.pyplot as plt\n",
    "import seaborn as sns\n",
    "from statsmodels.stats.outliers_influence import variance_inflation_factor\n",
    "from sklearn.preprocessing import StandardScaler\n",
    "import pickle\n",
    "import seaborn\n",
    "\n",
    "plt.style.use('seaborn')"
   ]
  },
  {
   "cell_type": "markdown",
   "metadata": {},
   "source": [
    "NOTE TO THE READER: \n",
    "\n",
    "Before going through this notebook, I kindly recommend reading the following documents: a (link) and b (link). These documents will provide the relevant information regarding variables and the overall goal of the project, and therefore, make this analysis more coherent."
   ]
  },
  {
   "cell_type": "code",
   "execution_count": 2,
   "metadata": {},
   "outputs": [
    {
     "name": "stderr",
     "output_type": "stream",
     "text": [
      "C:\\Users\\Vanja\\Anaconda3\\lib\\site-packages\\IPython\\core\\interactiveshell.py:3146: DtypeWarning: Columns (9) have mixed types.Specify dtype option on import or set low_memory=False.\n",
      "  has_raised = await self.run_ast_nodes(code_ast.body, cell_name,\n"
     ]
    }
   ],
   "source": [
    "df = pd.read_csv('SBAnational.csv', index_col= 'LoanNr_ChkDgt', parse_dates=['ApprovalDate','ChgOffDate', 'DisbursementDate'])"
   ]
  },
  {
   "cell_type": "code",
   "execution_count": 3,
   "metadata": {},
   "outputs": [
    {
     "name": "stdout",
     "output_type": "stream",
     "text": [
      "<class 'pandas.core.frame.DataFrame'>\n",
      "Int64Index: 899164 entries, 1000014003 to 9996003010\n",
      "Data columns (total 26 columns):\n",
      " #   Column             Non-Null Count   Dtype         \n",
      "---  ------             --------------   -----         \n",
      " 0   Name               899150 non-null  object        \n",
      " 1   City               899134 non-null  object        \n",
      " 2   State              899150 non-null  object        \n",
      " 3   Zip                899164 non-null  int64         \n",
      " 4   Bank               897605 non-null  object        \n",
      " 5   BankState          897598 non-null  object        \n",
      " 6   NAICS              899164 non-null  int64         \n",
      " 7   ApprovalDate       899164 non-null  datetime64[ns]\n",
      " 8   ApprovalFY         899164 non-null  object        \n",
      " 9   Term               899164 non-null  int64         \n",
      " 10  NoEmp              899164 non-null  int64         \n",
      " 11  NewExist           899028 non-null  float64       \n",
      " 12  CreateJob          899164 non-null  int64         \n",
      " 13  RetainedJob        899164 non-null  int64         \n",
      " 14  FranchiseCode      899164 non-null  int64         \n",
      " 15  UrbanRural         899164 non-null  int64         \n",
      " 16  RevLineCr          894636 non-null  object        \n",
      " 17  LowDoc             896582 non-null  object        \n",
      " 18  ChgOffDate         162699 non-null  datetime64[ns]\n",
      " 19  DisbursementDate   896796 non-null  datetime64[ns]\n",
      " 20  DisbursementGross  899164 non-null  object        \n",
      " 21  BalanceGross       899164 non-null  object        \n",
      " 22  MIS_Status         897167 non-null  object        \n",
      " 23  ChgOffPrinGr       899164 non-null  object        \n",
      " 24  GrAppv             899164 non-null  object        \n",
      " 25  SBA_Appv           899164 non-null  object        \n",
      "dtypes: datetime64[ns](3), float64(1), int64(8), object(14)\n",
      "memory usage: 185.2+ MB\n"
     ]
    }
   ],
   "source": [
    "df.info()"
   ]
  },
  {
   "cell_type": "code",
   "execution_count": 4,
   "metadata": {},
   "outputs": [],
   "source": [
    "# dependent variable\n",
    "\n",
    "df.dropna(subset=['MIS_Status'], inplace=True)"
   ]
  },
  {
   "cell_type": "markdown",
   "metadata": {},
   "source": [
    "### First-to-go columns:"
   ]
  },
  {
   "cell_type": "code",
   "execution_count": 5,
   "metadata": {},
   "outputs": [],
   "source": [
    "df.drop(columns= 'ChgOffDate', inplace = True) # too many null values"
   ]
  },
  {
   "cell_type": "code",
   "execution_count": 6,
   "metadata": {},
   "outputs": [],
   "source": [
    "# columns that won't be useful at first glance (text and cannot see how they can be turned to either category or number)\n",
    "\n",
    "df.drop(columns = ['Name', 'Zip', 'City', 'Bank', 'FranchiseCode'], inplace=True)"
   ]
  },
  {
   "cell_type": "code",
   "execution_count": 7,
   "metadata": {},
   "outputs": [],
   "source": [
    "# from loan approval point, disbursement date, and approval date do not create valid variables\n",
    "\n",
    "df.drop(columns = ['DisbursementDate', 'ApprovalDate'], inplace=True)"
   ]
  },
  {
   "cell_type": "markdown",
   "metadata": {},
   "source": [
    "### Binary variables:"
   ]
  },
  {
   "cell_type": "markdown",
   "metadata": {},
   "source": [
    "In some of the below columns there are undefined values as well as bad data. I will map according to the variable definitions and check wether it increases the number of null values. Depending on the results, columns will stay or go."
   ]
  },
  {
   "cell_type": "code",
   "execution_count": 8,
   "metadata": {},
   "outputs": [
    {
     "name": "stdout",
     "output_type": "stream",
     "text": [
      "<class 'pandas.core.frame.DataFrame'>\n",
      "Int64Index: 897167 entries, 1000014003 to 9996003010\n",
      "Data columns (total 4 columns):\n",
      " #   Column      Non-Null Count   Dtype  \n",
      "---  ------      --------------   -----  \n",
      " 0   NewExist    897033 non-null  float64\n",
      " 1   RevLineCr   892647 non-null  object \n",
      " 2   LowDoc      894589 non-null  object \n",
      " 3   UrbanRural  897167 non-null  int64  \n",
      "dtypes: float64(1), int64(1), object(2)\n",
      "memory usage: 34.2+ MB\n",
      "None \n",
      "\n",
      "<class 'pandas.core.frame.DataFrame'>\n",
      "Int64Index: 897167 entries, 1000014003 to 9996003010\n",
      "Data columns (total 4 columns):\n",
      " #   Column      Non-Null Count   Dtype  \n",
      "---  ------      --------------   -----  \n",
      " 0   NewExist    896005 non-null  float64\n",
      " 1   RevLineCr   619912 non-null  float64\n",
      " 2   LowDoc      891168 non-null  float64\n",
      " 3   UrbanRural  574341 non-null  float64\n",
      "dtypes: float64(4)\n",
      "memory usage: 34.2 MB\n",
      "None\n"
     ]
    }
   ],
   "source": [
    "df_bin = df[['NewExist', 'RevLineCr', 'LowDoc', 'UrbanRural']].copy(deep=True)\n",
    "print(df[['NewExist', 'RevLineCr', 'LowDoc', 'UrbanRural']].info(),'\\n')\n",
    "\n",
    "df['UrbanRural'] = df['UrbanRural'].map({1.0: 0, 2.0: 1})\n",
    "df['NewExist'] = df['NewExist'].map({1.0: 0, 2.0: 1})\n",
    "df['RevLineCr'] = df['RevLineCr'].map({'N': 0, 'Y': 1}) \n",
    "df['LowDoc'] = df['LowDoc'].map({'N': 0, 'Y': 1}) \n",
    "df['MIS_Status'] = df['MIS_Status'].map({'CHGOFF': 0, 'P I F': 1})\n",
    "\n",
    "print(df[['NewExist', 'RevLineCr', 'LowDoc', 'UrbanRural']].info())"
   ]
  },
  {
   "cell_type": "markdown",
   "metadata": {},
   "source": [
    "RevLineCr and UrbanRural are showing a significant increase as well as a high percentage of missing values. Due to this reason, I will drop both columns."
   ]
  },
  {
   "cell_type": "code",
   "execution_count": 9,
   "metadata": {},
   "outputs": [],
   "source": [
    "df.drop(columns = ['UrbanRural', 'RevLineCr'], inplace=True)"
   ]
  },
  {
   "cell_type": "markdown",
   "metadata": {},
   "source": [
    "### Should-be numerical variables:"
   ]
  },
  {
   "cell_type": "code",
   "execution_count": 10,
   "metadata": {},
   "outputs": [],
   "source": [
    "for column in ('GrAppv', 'SBA_Appv', 'DisbursementGross', 'BalanceGross', 'ChgOffPrinGr'):\n",
    "    df[column] = df[column].apply(lambda x: x.replace('$',''))\n",
    "    df[column] = df[column].apply(lambda x: x.replace(' ',''))\n",
    "    df[column] = df[column].apply(lambda x: x.replace(',',''))\n",
    "    df[column] = df[column].astype('float')"
   ]
  },
  {
   "cell_type": "code",
   "execution_count": 11,
   "metadata": {},
   "outputs": [
    {
     "data": {
      "text/html": [
       "<div>\n",
       "<style scoped>\n",
       "    .dataframe tbody tr th:only-of-type {\n",
       "        vertical-align: middle;\n",
       "    }\n",
       "\n",
       "    .dataframe tbody tr th {\n",
       "        vertical-align: top;\n",
       "    }\n",
       "\n",
       "    .dataframe thead th {\n",
       "        text-align: right;\n",
       "    }\n",
       "</style>\n",
       "<table border=\"1\" class=\"dataframe\">\n",
       "  <thead>\n",
       "    <tr style=\"text-align: right;\">\n",
       "      <th></th>\n",
       "      <th>GrAppv</th>\n",
       "      <th>SBA_Appv</th>\n",
       "      <th>DisbursementGross</th>\n",
       "      <th>BalanceGross</th>\n",
       "      <th>ChgOffPrinGr</th>\n",
       "    </tr>\n",
       "    <tr>\n",
       "      <th>LoanNr_ChkDgt</th>\n",
       "      <th></th>\n",
       "      <th></th>\n",
       "      <th></th>\n",
       "      <th></th>\n",
       "      <th></th>\n",
       "    </tr>\n",
       "  </thead>\n",
       "  <tbody>\n",
       "    <tr>\n",
       "      <th>1000014003</th>\n",
       "      <td>60000.0</td>\n",
       "      <td>48000.0</td>\n",
       "      <td>60000.0</td>\n",
       "      <td>0.0</td>\n",
       "      <td>0.0</td>\n",
       "    </tr>\n",
       "    <tr>\n",
       "      <th>1000024006</th>\n",
       "      <td>40000.0</td>\n",
       "      <td>32000.0</td>\n",
       "      <td>40000.0</td>\n",
       "      <td>0.0</td>\n",
       "      <td>0.0</td>\n",
       "    </tr>\n",
       "    <tr>\n",
       "      <th>1000034009</th>\n",
       "      <td>287000.0</td>\n",
       "      <td>215250.0</td>\n",
       "      <td>287000.0</td>\n",
       "      <td>0.0</td>\n",
       "      <td>0.0</td>\n",
       "    </tr>\n",
       "    <tr>\n",
       "      <th>1000044001</th>\n",
       "      <td>35000.0</td>\n",
       "      <td>28000.0</td>\n",
       "      <td>35000.0</td>\n",
       "      <td>0.0</td>\n",
       "      <td>0.0</td>\n",
       "    </tr>\n",
       "    <tr>\n",
       "      <th>1000054004</th>\n",
       "      <td>229000.0</td>\n",
       "      <td>229000.0</td>\n",
       "      <td>229000.0</td>\n",
       "      <td>0.0</td>\n",
       "      <td>0.0</td>\n",
       "    </tr>\n",
       "  </tbody>\n",
       "</table>\n",
       "</div>"
      ],
      "text/plain": [
       "                 GrAppv  SBA_Appv  DisbursementGross  BalanceGross  \\\n",
       "LoanNr_ChkDgt                                                        \n",
       "1000014003      60000.0   48000.0            60000.0           0.0   \n",
       "1000024006      40000.0   32000.0            40000.0           0.0   \n",
       "1000034009     287000.0  215250.0           287000.0           0.0   \n",
       "1000044001      35000.0   28000.0            35000.0           0.0   \n",
       "1000054004     229000.0  229000.0           229000.0           0.0   \n",
       "\n",
       "               ChgOffPrinGr  \n",
       "LoanNr_ChkDgt                \n",
       "1000014003              0.0  \n",
       "1000024006              0.0  \n",
       "1000034009              0.0  \n",
       "1000044001              0.0  \n",
       "1000054004              0.0  "
      ]
     },
     "execution_count": 11,
     "metadata": {},
     "output_type": "execute_result"
    }
   ],
   "source": [
    "df_numerical = df[['GrAppv', 'SBA_Appv', 'DisbursementGross', 'BalanceGross', 'ChgOffPrinGr']]\n",
    "df_numerical.head()"
   ]
  },
  {
   "cell_type": "code",
   "execution_count": 12,
   "metadata": {},
   "outputs": [
    {
     "data": {
      "text/plain": [
       "687882"
      ]
     },
     "execution_count": 12,
     "metadata": {},
     "output_type": "execute_result"
    }
   ],
   "source": [
    "# my first observation: Gross Approved is equal (or almost equal) to Disbursment Gross, lets check\n",
    "\n",
    "df[df_numerical['GrAppv'] - df_numerical['DisbursementGross'] == 0].shape[0]"
   ]
  },
  {
   "cell_type": "code",
   "execution_count": 13,
   "metadata": {},
   "outputs": [],
   "source": [
    "# to many identical values, drop one of the columns\n",
    "\n",
    "df.drop(columns='DisbursementGross', inplace=True)"
   ]
  },
  {
   "cell_type": "code",
   "execution_count": 14,
   "metadata": {},
   "outputs": [
    {
     "name": "stdout",
     "output_type": "stream",
     "text": [
      "897153\n",
      "735412\n"
     ]
    }
   ],
   "source": [
    "# now lets check columns BalanceGross and ChgOffPrinGr\n",
    "\n",
    "print(df[df['BalanceGross']==0].shape[0])\n",
    "print(df[df['ChgOffPrinGr']==0].shape[0])"
   ]
  },
  {
   "cell_type": "code",
   "execution_count": 15,
   "metadata": {},
   "outputs": [],
   "source": [
    "# too many values are zero\n",
    "\n",
    "df.drop(columns=['BalanceGross','ChgOffPrinGr'],inplace=True)"
   ]
  },
  {
   "cell_type": "markdown",
   "metadata": {},
   "source": [
    "### Text columns:"
   ]
  },
  {
   "cell_type": "code",
   "execution_count": 16,
   "metadata": {},
   "outputs": [
    {
     "data": {
      "text/html": [
       "<div>\n",
       "<style scoped>\n",
       "    .dataframe tbody tr th:only-of-type {\n",
       "        vertical-align: middle;\n",
       "    }\n",
       "\n",
       "    .dataframe tbody tr th {\n",
       "        vertical-align: top;\n",
       "    }\n",
       "\n",
       "    .dataframe thead th {\n",
       "        text-align: right;\n",
       "    }\n",
       "</style>\n",
       "<table border=\"1\" class=\"dataframe\">\n",
       "  <thead>\n",
       "    <tr style=\"text-align: right;\">\n",
       "      <th></th>\n",
       "      <th>NAICS</th>\n",
       "      <th>ApprovalFY</th>\n",
       "      <th>State</th>\n",
       "      <th>BankState</th>\n",
       "    </tr>\n",
       "    <tr>\n",
       "      <th>LoanNr_ChkDgt</th>\n",
       "      <th></th>\n",
       "      <th></th>\n",
       "      <th></th>\n",
       "      <th></th>\n",
       "    </tr>\n",
       "  </thead>\n",
       "  <tbody>\n",
       "    <tr>\n",
       "      <th>1000014003</th>\n",
       "      <td>451120</td>\n",
       "      <td>1997</td>\n",
       "      <td>IN</td>\n",
       "      <td>OH</td>\n",
       "    </tr>\n",
       "    <tr>\n",
       "      <th>1000024006</th>\n",
       "      <td>722410</td>\n",
       "      <td>1997</td>\n",
       "      <td>IN</td>\n",
       "      <td>IN</td>\n",
       "    </tr>\n",
       "    <tr>\n",
       "      <th>1000034009</th>\n",
       "      <td>621210</td>\n",
       "      <td>1997</td>\n",
       "      <td>IN</td>\n",
       "      <td>IN</td>\n",
       "    </tr>\n",
       "    <tr>\n",
       "      <th>1000044001</th>\n",
       "      <td>0</td>\n",
       "      <td>1997</td>\n",
       "      <td>OK</td>\n",
       "      <td>OK</td>\n",
       "    </tr>\n",
       "    <tr>\n",
       "      <th>1000054004</th>\n",
       "      <td>0</td>\n",
       "      <td>1997</td>\n",
       "      <td>FL</td>\n",
       "      <td>FL</td>\n",
       "    </tr>\n",
       "  </tbody>\n",
       "</table>\n",
       "</div>"
      ],
      "text/plain": [
       "                NAICS ApprovalFY State BankState\n",
       "LoanNr_ChkDgt                                   \n",
       "1000014003     451120       1997    IN        OH\n",
       "1000024006     722410       1997    IN        IN\n",
       "1000034009     621210       1997    IN        IN\n",
       "1000044001          0       1997    OK        OK\n",
       "1000054004          0       1997    FL        FL"
      ]
     },
     "execution_count": 16,
     "metadata": {},
     "output_type": "execute_result"
    }
   ],
   "source": [
    "df_text = df[['NAICS', 'ApprovalFY', 'State', 'BankState']]\n",
    "df_text.head()"
   ]
  },
  {
   "cell_type": "code",
   "execution_count": 17,
   "metadata": {},
   "outputs": [
    {
     "data": {
      "text/plain": [
       "(897167, 13)"
      ]
     },
     "execution_count": 17,
     "metadata": {},
     "output_type": "execute_result"
    }
   ],
   "source": [
    "df.shape"
   ]
  },
  {
   "cell_type": "markdown",
   "metadata": {},
   "source": [
    "As the state could be a valuable predictor, I'll try to include it in the model. In order to reduce the number of categories, the idea is to make separate categories for the states with the highest amount of loans and the rest to put in one category."
   ]
  },
  {
   "cell_type": "code",
   "execution_count": 18,
   "metadata": {},
   "outputs": [
    {
     "data": {
      "text/plain": [
       "[(130488, 'CA'), (70401, 'TX'), (57394, 'NY'), (41192, 'FL')]"
      ]
     },
     "execution_count": 18,
     "metadata": {},
     "output_type": "execute_result"
    }
   ],
   "source": [
    "unique, counts = np.unique(df['State'].dropna().values, return_counts=True)\n",
    "states = dict(zip(counts, unique))\n",
    "sorted_states = sorted(states.items(), reverse=True)\n",
    "sorted_states[:4]  # don't want more than 5 dummie variables (4 for these + 1 for other countries)\n"
   ]
  },
  {
   "cell_type": "code",
   "execution_count": 19,
   "metadata": {},
   "outputs": [],
   "source": [
    "def state_map(string):\n",
    "    if string in [x[1] for x in sorted_states[:4]]:\n",
    "        return string\n",
    "    else:\n",
    "        return 'Remaining states'\n",
    "\n",
    "df['State'] = df['State'].apply(state_map)"
   ]
  },
  {
   "cell_type": "code",
   "execution_count": 20,
   "metadata": {},
   "outputs": [
    {
     "data": {
      "text/plain": [
       "<AxesSubplot:>"
      ]
     },
     "execution_count": 20,
     "metadata": {},
     "output_type": "execute_result"
    },
    {
     "data": {
      "image/png": "[encoded data removed]",
      "text/plain": [
       "<Figure size 576x396 with 1 Axes>"
      ]
     },
     "metadata": {},
     "output_type": "display_data"
    }
   ],
   "source": [
    "df['State'].hist() "
   ]
  },
  {
   "cell_type": "markdown",
   "metadata": {},
   "source": [
    "My process of thought is that in order to use this predictor, I should either include more states or find a better way to group them. I must say that first option doesn't sound appealing as it will significantly increase the number of columns. Regarding the second option, as suggested in the mentioned pdf file, there could be a reasonable way to group the states. However, this approach would require a separate analysis. Therefore, considering tradeoff time-contribution, I will drop this column now and in the reality of not satisfying model score, I'll revise my decision."
   ]
  },
  {
   "cell_type": "code",
   "execution_count": 21,
   "metadata": {},
   "outputs": [],
   "source": [
    "df.drop(columns = 'State', inplace=True)"
   ]
  },
  {
   "cell_type": "code",
   "execution_count": 22,
   "metadata": {},
   "outputs": [],
   "source": [
    "# no point in having this\n",
    "\n",
    "df.drop(columns='BankState', inplace=True)"
   ]
  },
  {
   "cell_type": "code",
   "execution_count": 23,
   "metadata": {},
   "outputs": [],
   "source": [
    "# too many sectors to classify\n",
    "\n",
    "df.drop(columns='NAICS', inplace=True)"
   ]
  },
  {
   "cell_type": "code",
   "execution_count": 24,
   "metadata": {},
   "outputs": [
    {
     "data": {
      "text/html": [
       "<div>\n",
       "<style scoped>\n",
       "    .dataframe tbody tr th:only-of-type {\n",
       "        vertical-align: middle;\n",
       "    }\n",
       "\n",
       "    .dataframe tbody tr th {\n",
       "        vertical-align: top;\n",
       "    }\n",
       "\n",
       "    .dataframe thead th {\n",
       "        text-align: right;\n",
       "    }\n",
       "</style>\n",
       "<table border=\"1\" class=\"dataframe\">\n",
       "  <thead>\n",
       "    <tr style=\"text-align: right;\">\n",
       "      <th></th>\n",
       "      <th>ApprovalFY</th>\n",
       "      <th>Term</th>\n",
       "      <th>NoEmp</th>\n",
       "      <th>NewExist</th>\n",
       "      <th>CreateJob</th>\n",
       "      <th>RetainedJob</th>\n",
       "      <th>LowDoc</th>\n",
       "      <th>MIS_Status</th>\n",
       "      <th>GrAppv</th>\n",
       "      <th>SBA_Appv</th>\n",
       "    </tr>\n",
       "    <tr>\n",
       "      <th>LoanNr_ChkDgt</th>\n",
       "      <th></th>\n",
       "      <th></th>\n",
       "      <th></th>\n",
       "      <th></th>\n",
       "      <th></th>\n",
       "      <th></th>\n",
       "      <th></th>\n",
       "      <th></th>\n",
       "      <th></th>\n",
       "      <th></th>\n",
       "    </tr>\n",
       "  </thead>\n",
       "  <tbody>\n",
       "    <tr>\n",
       "      <th>1000014003</th>\n",
       "      <td>1997</td>\n",
       "      <td>84</td>\n",
       "      <td>4</td>\n",
       "      <td>1.0</td>\n",
       "      <td>0</td>\n",
       "      <td>0</td>\n",
       "      <td>1.0</td>\n",
       "      <td>1</td>\n",
       "      <td>60000.0</td>\n",
       "      <td>48000.0</td>\n",
       "    </tr>\n",
       "    <tr>\n",
       "      <th>1000024006</th>\n",
       "      <td>1997</td>\n",
       "      <td>60</td>\n",
       "      <td>2</td>\n",
       "      <td>1.0</td>\n",
       "      <td>0</td>\n",
       "      <td>0</td>\n",
       "      <td>1.0</td>\n",
       "      <td>1</td>\n",
       "      <td>40000.0</td>\n",
       "      <td>32000.0</td>\n",
       "    </tr>\n",
       "    <tr>\n",
       "      <th>1000034009</th>\n",
       "      <td>1997</td>\n",
       "      <td>180</td>\n",
       "      <td>7</td>\n",
       "      <td>0.0</td>\n",
       "      <td>0</td>\n",
       "      <td>0</td>\n",
       "      <td>0.0</td>\n",
       "      <td>1</td>\n",
       "      <td>287000.0</td>\n",
       "      <td>215250.0</td>\n",
       "    </tr>\n",
       "    <tr>\n",
       "      <th>1000044001</th>\n",
       "      <td>1997</td>\n",
       "      <td>60</td>\n",
       "      <td>2</td>\n",
       "      <td>0.0</td>\n",
       "      <td>0</td>\n",
       "      <td>0</td>\n",
       "      <td>1.0</td>\n",
       "      <td>1</td>\n",
       "      <td>35000.0</td>\n",
       "      <td>28000.0</td>\n",
       "    </tr>\n",
       "    <tr>\n",
       "      <th>1000054004</th>\n",
       "      <td>1997</td>\n",
       "      <td>240</td>\n",
       "      <td>14</td>\n",
       "      <td>0.0</td>\n",
       "      <td>7</td>\n",
       "      <td>7</td>\n",
       "      <td>0.0</td>\n",
       "      <td>1</td>\n",
       "      <td>229000.0</td>\n",
       "      <td>229000.0</td>\n",
       "    </tr>\n",
       "  </tbody>\n",
       "</table>\n",
       "</div>"
      ],
      "text/plain": [
       "              ApprovalFY  Term  NoEmp  NewExist  CreateJob  RetainedJob  \\\n",
       "LoanNr_ChkDgt                                                             \n",
       "1000014003          1997    84      4       1.0          0            0   \n",
       "1000024006          1997    60      2       1.0          0            0   \n",
       "1000034009          1997   180      7       0.0          0            0   \n",
       "1000044001          1997    60      2       0.0          0            0   \n",
       "1000054004          1997   240     14       0.0          7            7   \n",
       "\n",
       "               LowDoc  MIS_Status    GrAppv  SBA_Appv  \n",
       "LoanNr_ChkDgt                                          \n",
       "1000014003        1.0           1   60000.0   48000.0  \n",
       "1000024006        1.0           1   40000.0   32000.0  \n",
       "1000034009        0.0           1  287000.0  215250.0  \n",
       "1000044001        1.0           1   35000.0   28000.0  \n",
       "1000054004        0.0           1  229000.0  229000.0  "
      ]
     },
     "execution_count": 24,
     "metadata": {},
     "output_type": "execute_result"
    }
   ],
   "source": [
    "df.head()"
   ]
  },
  {
   "cell_type": "code",
   "execution_count": 25,
   "metadata": {},
   "outputs": [],
   "source": [
    "# in ApprovalIFY there are both string and integer, have to deal with that\n",
    "\n",
    "def str_int(item):\n",
    "    if type(item) == str:\n",
    "        for char in item:\n",
    "            if not(char.isdigit()):\n",
    "                item = item.replace(char,'')\n",
    "        return int(item)\n",
    "    else:\n",
    "        return item\n",
    "\n",
    "df['ApprovalFY'] = df['ApprovalFY'].apply(str_int)"
   ]
  },
  {
   "cell_type": "code",
   "execution_count": 26,
   "metadata": {},
   "outputs": [
    {
     "data": {
      "text/plain": [
       "0.18764176569133728"
      ]
     },
     "execution_count": 26,
     "metadata": {},
     "output_type": "execute_result"
    }
   ],
   "source": [
    "# goal is to separate loans before and after economic crisis\n",
    "\n",
    "(df['ApprovalFY']>=2007).sum()/df['ApprovalFY'].shape[0]"
   ]
  },
  {
   "cell_type": "code",
   "execution_count": 27,
   "metadata": {},
   "outputs": [],
   "source": [
    "df['ApprovalFY'] = np.where(df['ApprovalFY']>=2007, 1, 0) "
   ]
  },
  {
   "cell_type": "markdown",
   "metadata": {},
   "source": [
    "I am not sure whether to include this predictor as for all futher loans, ApprovalFY will be mapped as 1. However, I would like to see how much impact the same variable will have on model accurancy.\n",
    "\n",
    "After testing the model with and without mentioned predictor, there is no difference in f1 score. Due to this reason, I will drop ApprovalFY."
   ]
  },
  {
   "cell_type": "code",
   "execution_count": 28,
   "metadata": {},
   "outputs": [],
   "source": [
    "df.drop(columns='ApprovalFY', inplace=True)"
   ]
  },
  {
   "cell_type": "markdown",
   "metadata": {},
   "source": [
    "### Dealing with the remaing missing values:"
   ]
  },
  {
   "cell_type": "code",
   "execution_count": 29,
   "metadata": {},
   "outputs": [
    {
     "name": "stdout",
     "output_type": "stream",
     "text": [
      "<class 'pandas.core.frame.DataFrame'>\n",
      "Int64Index: 897167 entries, 1000014003 to 9996003010\n",
      "Data columns (total 9 columns):\n",
      " #   Column       Non-Null Count   Dtype  \n",
      "---  ------       --------------   -----  \n",
      " 0   Term         897167 non-null  int64  \n",
      " 1   NoEmp        897167 non-null  int64  \n",
      " 2   NewExist     896005 non-null  float64\n",
      " 3   CreateJob    897167 non-null  int64  \n",
      " 4   RetainedJob  897167 non-null  int64  \n",
      " 5   LowDoc       891168 non-null  float64\n",
      " 6   MIS_Status   897167 non-null  int64  \n",
      " 7   GrAppv       897167 non-null  float64\n",
      " 8   SBA_Appv     897167 non-null  float64\n",
      "dtypes: float64(4), int64(5)\n",
      "memory usage: 68.4 MB\n"
     ]
    }
   ],
   "source": [
    "df.info()"
   ]
  },
  {
   "cell_type": "markdown",
   "metadata": {},
   "source": [
    "Besides NewExist, LowDoc is the predictor that still has roughly 5000 missing values. One option is to fill null values with 1s as more than 85% percent of the data is equal to 1. However, the thought of making the variable more unbalanced, does not sound right. I'll use decision tree (simple and fast) as a way of dealing with the missing values both for NewExist and LowDoc."
   ]
  },
  {
   "cell_type": "code",
   "execution_count": 30,
   "metadata": {},
   "outputs": [],
   "source": [
    "from sklearn.model_selection import train_test_split\n",
    "from sklearn.metrics import accuracy_score\n",
    "from sklearn.tree import DecisionTreeClassifier"
   ]
  },
  {
   "cell_type": "code",
   "execution_count": 31,
   "metadata": {},
   "outputs": [],
   "source": [
    "def MissingValues(column, action):\n",
    "    data = df.drop(columns = ['LowDoc', 'NewExist','MIS_Status']) \n",
    "    X = data[df[column].notnull()] \n",
    "    y = df[df[column].notnull()][column]\n",
    "    dtc = DecisionTreeClassifier(max_depth = 15,min_samples_leaf = 5) # did few combinations of hypherparameters\n",
    "        # just to deal with the overfitting, spending more time on later models\n",
    "    if action == 'train':\n",
    "        x_train, x_test, y_train, y_test = train_test_split(X, y, test_size=0.2)\n",
    "        dtc.fit(x_train, y_train)\n",
    "        print(column + ' train accurancy score: {}%'.format(np.round(accuracy_score(dtc.predict(x_train),y_train)*100,2)))\n",
    "        print(column + ' test accurancy score: {}%'.format(np.round(accuracy_score(dtc.predict(x_test),y_test)*100,2)))\n",
    "    elif action == 'fill':\n",
    "        dtc.fit(X, y)\n",
    "        data_isna = data[df[column].isna()]\n",
    "        predictions = dtc.predict(data_isna)\n",
    "        df.loc[data_isna.index, column] = predictions\n",
    "    else:\n",
    "        print('action can be either \"train\" or \"fill\"')\n",
    "        "
   ]
  },
  {
   "cell_type": "code",
   "execution_count": 32,
   "metadata": {},
   "outputs": [
    {
     "name": "stdout",
     "output_type": "stream",
     "text": [
      "LowDoc train accurancy score: 92.51%\n",
      "LowDoc test accurancy score: 92.31%\n"
     ]
    }
   ],
   "source": [
    "MissingValues('LowDoc', 'train')"
   ]
  },
  {
   "cell_type": "code",
   "execution_count": 33,
   "metadata": {},
   "outputs": [
    {
     "name": "stdout",
     "output_type": "stream",
     "text": [
      "NewExist train accurancy score: 76.65%\n",
      "NewExist test accurancy score: 74.8%\n"
     ]
    }
   ],
   "source": [
    "MissingValues('NewExist', 'train')"
   ]
  },
  {
   "cell_type": "code",
   "execution_count": 34,
   "metadata": {},
   "outputs": [],
   "source": [
    "MissingValues('LowDoc', 'fill')\n",
    "MissingValues('NewExist', 'fill')"
   ]
  },
  {
   "cell_type": "code",
   "execution_count": 35,
   "metadata": {},
   "outputs": [
    {
     "name": "stdout",
     "output_type": "stream",
     "text": [
      "<class 'pandas.core.frame.DataFrame'>\n",
      "Int64Index: 897167 entries, 1000014003 to 9996003010\n",
      "Data columns (total 9 columns):\n",
      " #   Column       Non-Null Count   Dtype  \n",
      "---  ------       --------------   -----  \n",
      " 0   Term         897167 non-null  int64  \n",
      " 1   NoEmp        897167 non-null  int64  \n",
      " 2   NewExist     897167 non-null  float64\n",
      " 3   CreateJob    897167 non-null  int64  \n",
      " 4   RetainedJob  897167 non-null  int64  \n",
      " 5   LowDoc       897167 non-null  float64\n",
      " 6   MIS_Status   897167 non-null  int64  \n",
      " 7   GrAppv       897167 non-null  float64\n",
      " 8   SBA_Appv     897167 non-null  float64\n",
      "dtypes: float64(4), int64(5)\n",
      "memory usage: 108.4 MB\n"
     ]
    }
   ],
   "source": [
    "df.info()"
   ]
  },
  {
   "cell_type": "markdown",
   "metadata": {},
   "source": [
    "### Analysis of the remaing variables"
   ]
  },
  {
   "cell_type": "code",
   "execution_count": 36,
   "metadata": {},
   "outputs": [
    {
     "data": {
      "text/html": [
       "<div>\n",
       "<style scoped>\n",
       "    .dataframe tbody tr th:only-of-type {\n",
       "        vertical-align: middle;\n",
       "    }\n",
       "\n",
       "    .dataframe tbody tr th {\n",
       "        vertical-align: top;\n",
       "    }\n",
       "\n",
       "    .dataframe thead th {\n",
       "        text-align: right;\n",
       "    }\n",
       "</style>\n",
       "<table border=\"1\" class=\"dataframe\">\n",
       "  <thead>\n",
       "    <tr style=\"text-align: right;\">\n",
       "      <th></th>\n",
       "      <th>Term</th>\n",
       "      <th>NoEmp</th>\n",
       "      <th>NewExist</th>\n",
       "      <th>CreateJob</th>\n",
       "      <th>RetainedJob</th>\n",
       "      <th>LowDoc</th>\n",
       "      <th>MIS_Status</th>\n",
       "      <th>GrAppv</th>\n",
       "      <th>SBA_Appv</th>\n",
       "    </tr>\n",
       "    <tr>\n",
       "      <th>LoanNr_ChkDgt</th>\n",
       "      <th></th>\n",
       "      <th></th>\n",
       "      <th></th>\n",
       "      <th></th>\n",
       "      <th></th>\n",
       "      <th></th>\n",
       "      <th></th>\n",
       "      <th></th>\n",
       "      <th></th>\n",
       "    </tr>\n",
       "  </thead>\n",
       "  <tbody>\n",
       "    <tr>\n",
       "      <th>1000014003</th>\n",
       "      <td>84</td>\n",
       "      <td>4</td>\n",
       "      <td>1.0</td>\n",
       "      <td>0</td>\n",
       "      <td>0</td>\n",
       "      <td>1.0</td>\n",
       "      <td>1</td>\n",
       "      <td>60000.0</td>\n",
       "      <td>48000.0</td>\n",
       "    </tr>\n",
       "    <tr>\n",
       "      <th>1000024006</th>\n",
       "      <td>60</td>\n",
       "      <td>2</td>\n",
       "      <td>1.0</td>\n",
       "      <td>0</td>\n",
       "      <td>0</td>\n",
       "      <td>1.0</td>\n",
       "      <td>1</td>\n",
       "      <td>40000.0</td>\n",
       "      <td>32000.0</td>\n",
       "    </tr>\n",
       "    <tr>\n",
       "      <th>1000034009</th>\n",
       "      <td>180</td>\n",
       "      <td>7</td>\n",
       "      <td>0.0</td>\n",
       "      <td>0</td>\n",
       "      <td>0</td>\n",
       "      <td>0.0</td>\n",
       "      <td>1</td>\n",
       "      <td>287000.0</td>\n",
       "      <td>215250.0</td>\n",
       "    </tr>\n",
       "    <tr>\n",
       "      <th>1000044001</th>\n",
       "      <td>60</td>\n",
       "      <td>2</td>\n",
       "      <td>0.0</td>\n",
       "      <td>0</td>\n",
       "      <td>0</td>\n",
       "      <td>1.0</td>\n",
       "      <td>1</td>\n",
       "      <td>35000.0</td>\n",
       "      <td>28000.0</td>\n",
       "    </tr>\n",
       "    <tr>\n",
       "      <th>1000054004</th>\n",
       "      <td>240</td>\n",
       "      <td>14</td>\n",
       "      <td>0.0</td>\n",
       "      <td>7</td>\n",
       "      <td>7</td>\n",
       "      <td>0.0</td>\n",
       "      <td>1</td>\n",
       "      <td>229000.0</td>\n",
       "      <td>229000.0</td>\n",
       "    </tr>\n",
       "  </tbody>\n",
       "</table>\n",
       "</div>"
      ],
      "text/plain": [
       "               Term  NoEmp  NewExist  CreateJob  RetainedJob  LowDoc  \\\n",
       "LoanNr_ChkDgt                                                          \n",
       "1000014003       84      4       1.0          0            0     1.0   \n",
       "1000024006       60      2       1.0          0            0     1.0   \n",
       "1000034009      180      7       0.0          0            0     0.0   \n",
       "1000044001       60      2       0.0          0            0     1.0   \n",
       "1000054004      240     14       0.0          7            7     0.0   \n",
       "\n",
       "               MIS_Status    GrAppv  SBA_Appv  \n",
       "LoanNr_ChkDgt                                  \n",
       "1000014003              1   60000.0   48000.0  \n",
       "1000024006              1   40000.0   32000.0  \n",
       "1000034009              1  287000.0  215250.0  \n",
       "1000044001              1   35000.0   28000.0  \n",
       "1000054004              1  229000.0  229000.0  "
      ]
     },
     "execution_count": 36,
     "metadata": {},
     "output_type": "execute_result"
    }
   ],
   "source": [
    "df.head()"
   ]
  },
  {
   "cell_type": "code",
   "execution_count": 51,
   "metadata": {},
   "outputs": [
    {
     "data": {
      "text/plain": [
       "array([[<AxesSubplot:title={'center':'Term'}>,\n",
       "        <AxesSubplot:title={'center':'NoEmp'}>,\n",
       "        <AxesSubplot:title={'center':'NewExist'}>],\n",
       "       [<AxesSubplot:title={'center':'CreateJob'}>,\n",
       "        <AxesSubplot:title={'center':'RetainedJob'}>,\n",
       "        <AxesSubplot:title={'center':'LowDoc'}>],\n",
       "       [<AxesSubplot:title={'center':'MIS_Status'}>,\n",
       "        <AxesSubplot:title={'center':'GrAppv'}>,\n",
       "        <AxesSubplot:title={'center':'SBA_Appv'}>]], dtype=object)"
      ]
     },
     "execution_count": 51,
     "metadata": {},
     "output_type": "execute_result"
    },
    {
     "data": {
      "image/png": "[encoded data removed]",
      "text/plain": [
       "<Figure size 1080x1080 with 9 Axes>"
      ]
     },
     "metadata": {},
     "output_type": "display_data"
    }
   ],
   "source": [
    "df.hist(figsize=(15,15),bins=30)"
   ]
  },
  {
   "cell_type": "code",
   "execution_count": 38,
   "metadata": {},
   "outputs": [],
   "source": [
    "# NOTE: dependent variable is skewed! (important for modeling part)"
   ]
  },
  {
   "cell_type": "code",
   "execution_count": 60,
   "metadata": {},
   "outputs": [
    {
     "data": {
      "text/plain": [
       "<seaborn.axisgrid.FacetGrid at 0x1e81f6b6eb0>"
      ]
     },
     "execution_count": 60,
     "metadata": {},
     "output_type": "execute_result"
    },
    {
     "data": {
      "image/png": "[encoded data removed]",
      "text/plain": [
       "<Figure size 360x360 with 1 Axes>"
      ]
     },
     "metadata": {},
     "output_type": "display_data"
    }
   ],
   "source": [
    "sns.catplot(x = 'CreateJob', kind = 'count', palette = 'ch:0.95', data = df)"
   ]
  },
  {
   "cell_type": "code",
   "execution_count": 70,
   "metadata": {},
   "outputs": [
    {
     "data": {
      "image/png": "[encoded data removed]",
      "text/plain": [
       "<Figure size 576x396 with 3 Axes>"
      ]
     },
     "metadata": {},
     "output_type": "display_data"
    }
   ],
   "source": [
    "fig, axs = plt.subplots(1,3)\n",
    "columns = ['NoEmp', 'CreateJob', 'RetainedJob',]\n",
    "\n",
    "for i in range(3):\n",
    "    sns.countplot(x = columns[i], data = df, ax = axs[i])\n",
    "    \n",
    "fig.tight_layout(pad=3.0)\n"
   ]
  },
  {
   "cell_type": "code",
   "execution_count": 71,
   "metadata": {},
   "outputs": [
    {
     "name": "stdout",
     "output_type": "stream",
     "text": [
      "627614\n",
      "439973\n"
     ]
    }
   ],
   "source": [
    "print((df['CreateJob'] == 0).sum()) # count goes till 600000\n",
    "print((df['RetainedJob'] == 0).sum()) # count goes till 400000"
   ]
  },
  {
   "cell_type": "code",
   "execution_count": 72,
   "metadata": {},
   "outputs": [],
   "source": [
    "df.drop(columns = ['CreateJob', 'RetainedJob'],inplace=True)  # too manu 0s"
   ]
  },
  {
   "cell_type": "code",
   "execution_count": 73,
   "metadata": {},
   "outputs": [
    {
     "data": {
      "image/png": "[encoded data removed]",
      "text/plain": [
       "<Figure size 720x720 with 2 Axes>"
      ]
     },
     "metadata": {},
     "output_type": "display_data"
    }
   ],
   "source": [
    "plt.figure(figsize = (10,10))\n",
    "sns.heatmap(df.corr(), annot=True,linecolor=\"red\",fmt= '.1f') \n",
    "plt.show()"
   ]
  },
  {
   "cell_type": "markdown",
   "metadata": {},
   "source": [
    "GrAppv and SBA_Appv are perfectly lineary corelated, we should drop one of them. On the other hand, I think that amount of approved loan backed by SBA is crucial information for Loan officier. Therefore, instead of droping this column, I will create a new one: Backed_by_SBA."
   ]
  },
  {
   "cell_type": "code",
   "execution_count": 74,
   "metadata": {},
   "outputs": [],
   "source": [
    "df['Backed_by_SBA'] = df['SBA_Appv']/df['GrAppv']"
   ]
  },
  {
   "cell_type": "code",
   "execution_count": 75,
   "metadata": {},
   "outputs": [],
   "source": [
    "df.drop(columns = ['SBA_Appv'], inplace=True)"
   ]
  },
  {
   "cell_type": "code",
   "execution_count": 76,
   "metadata": {},
   "outputs": [
    {
     "data": {
      "text/html": [
       "<div>\n",
       "<style scoped>\n",
       "    .dataframe tbody tr th:only-of-type {\n",
       "        vertical-align: middle;\n",
       "    }\n",
       "\n",
       "    .dataframe tbody tr th {\n",
       "        vertical-align: top;\n",
       "    }\n",
       "\n",
       "    .dataframe thead th {\n",
       "        text-align: right;\n",
       "    }\n",
       "</style>\n",
       "<table border=\"1\" class=\"dataframe\">\n",
       "  <thead>\n",
       "    <tr style=\"text-align: right;\">\n",
       "      <th></th>\n",
       "      <th>VIF</th>\n",
       "    </tr>\n",
       "  </thead>\n",
       "  <tbody>\n",
       "    <tr>\n",
       "      <th>Term</th>\n",
       "      <td>4.709523</td>\n",
       "    </tr>\n",
       "    <tr>\n",
       "      <th>NoEmp</th>\n",
       "      <td>1.034916</td>\n",
       "    </tr>\n",
       "    <tr>\n",
       "      <th>NewExist</th>\n",
       "      <td>1.434189</td>\n",
       "    </tr>\n",
       "    <tr>\n",
       "      <th>LowDoc</th>\n",
       "      <td>1.301892</td>\n",
       "    </tr>\n",
       "    <tr>\n",
       "      <th>GrAppv</th>\n",
       "      <td>2.009964</td>\n",
       "    </tr>\n",
       "    <tr>\n",
       "      <th>Backed_by_SBA</th>\n",
       "      <td>4.965647</td>\n",
       "    </tr>\n",
       "  </tbody>\n",
       "</table>\n",
       "</div>"
      ],
      "text/plain": [
       "                    VIF\n",
       "Term           4.709523\n",
       "NoEmp          1.034916\n",
       "NewExist       1.434189\n",
       "LowDoc         1.301892\n",
       "GrAppv         2.009964\n",
       "Backed_by_SBA  4.965647"
      ]
     },
     "execution_count": 76,
     "metadata": {},
     "output_type": "execute_result"
    }
   ],
   "source": [
    "vif = pd.DataFrame()\n",
    "\n",
    "X = df.drop(columns = 'MIS_Status').values\n",
    "vif['VIF'] = [variance_inflation_factor(X,i) for i in range(X.shape[1])]\n",
    "vif.index = df.drop(columns = 'MIS_Status').columns\n",
    "vif"
   ]
  },
  {
   "cell_type": "markdown",
   "metadata": {},
   "source": [
    "Multicollinearity is still present between Term and Backed_by_SBA. However, Term is the predictor loan officer most probably would like to take into account, so I am going to keep both columns"
   ]
  },
  {
   "cell_type": "markdown",
   "metadata": {},
   "source": [
    "### Saving data:"
   ]
  },
  {
   "cell_type": "code",
   "execution_count": 77,
   "metadata": {},
   "outputs": [
    {
     "data": {
      "text/html": [
       "<div>\n",
       "<style scoped>\n",
       "    .dataframe tbody tr th:only-of-type {\n",
       "        vertical-align: middle;\n",
       "    }\n",
       "\n",
       "    .dataframe tbody tr th {\n",
       "        vertical-align: top;\n",
       "    }\n",
       "\n",
       "    .dataframe thead th {\n",
       "        text-align: right;\n",
       "    }\n",
       "</style>\n",
       "<table border=\"1\" class=\"dataframe\">\n",
       "  <thead>\n",
       "    <tr style=\"text-align: right;\">\n",
       "      <th></th>\n",
       "      <th>Term</th>\n",
       "      <th>NoEmp</th>\n",
       "      <th>NewExist</th>\n",
       "      <th>LowDoc</th>\n",
       "      <th>MIS_Status</th>\n",
       "      <th>GrAppv</th>\n",
       "      <th>Backed_by_SBA</th>\n",
       "    </tr>\n",
       "    <tr>\n",
       "      <th>LoanNr_ChkDgt</th>\n",
       "      <th></th>\n",
       "      <th></th>\n",
       "      <th></th>\n",
       "      <th></th>\n",
       "      <th></th>\n",
       "      <th></th>\n",
       "      <th></th>\n",
       "    </tr>\n",
       "  </thead>\n",
       "  <tbody>\n",
       "    <tr>\n",
       "      <th>1000014003</th>\n",
       "      <td>84</td>\n",
       "      <td>4</td>\n",
       "      <td>1.0</td>\n",
       "      <td>1.0</td>\n",
       "      <td>1</td>\n",
       "      <td>60000.0</td>\n",
       "      <td>0.80</td>\n",
       "    </tr>\n",
       "    <tr>\n",
       "      <th>1000024006</th>\n",
       "      <td>60</td>\n",
       "      <td>2</td>\n",
       "      <td>1.0</td>\n",
       "      <td>1.0</td>\n",
       "      <td>1</td>\n",
       "      <td>40000.0</td>\n",
       "      <td>0.80</td>\n",
       "    </tr>\n",
       "    <tr>\n",
       "      <th>1000034009</th>\n",
       "      <td>180</td>\n",
       "      <td>7</td>\n",
       "      <td>0.0</td>\n",
       "      <td>0.0</td>\n",
       "      <td>1</td>\n",
       "      <td>287000.0</td>\n",
       "      <td>0.75</td>\n",
       "    </tr>\n",
       "    <tr>\n",
       "      <th>1000044001</th>\n",
       "      <td>60</td>\n",
       "      <td>2</td>\n",
       "      <td>0.0</td>\n",
       "      <td>1.0</td>\n",
       "      <td>1</td>\n",
       "      <td>35000.0</td>\n",
       "      <td>0.80</td>\n",
       "    </tr>\n",
       "    <tr>\n",
       "      <th>1000054004</th>\n",
       "      <td>240</td>\n",
       "      <td>14</td>\n",
       "      <td>0.0</td>\n",
       "      <td>0.0</td>\n",
       "      <td>1</td>\n",
       "      <td>229000.0</td>\n",
       "      <td>1.00</td>\n",
       "    </tr>\n",
       "  </tbody>\n",
       "</table>\n",
       "</div>"
      ],
      "text/plain": [
       "               Term  NoEmp  NewExist  LowDoc  MIS_Status    GrAppv  \\\n",
       "LoanNr_ChkDgt                                                        \n",
       "1000014003       84      4       1.0     1.0           1   60000.0   \n",
       "1000024006       60      2       1.0     1.0           1   40000.0   \n",
       "1000034009      180      7       0.0     0.0           1  287000.0   \n",
       "1000044001       60      2       0.0     1.0           1   35000.0   \n",
       "1000054004      240     14       0.0     0.0           1  229000.0   \n",
       "\n",
       "               Backed_by_SBA  \n",
       "LoanNr_ChkDgt                 \n",
       "1000014003              0.80  \n",
       "1000024006              0.80  \n",
       "1000034009              0.75  \n",
       "1000044001              0.80  \n",
       "1000054004              1.00  "
      ]
     },
     "execution_count": 77,
     "metadata": {},
     "output_type": "execute_result"
    }
   ],
   "source": [
    "df.head()"
   ]
  },
  {
   "cell_type": "code",
   "execution_count": 78,
   "metadata": {},
   "outputs": [],
   "source": [
    "df.to_csv('processed_data')"
   ]
  },
  {
   "cell_type": "markdown",
   "metadata": {},
   "source": [
    "Next is PyCharm."
   ]
  }
 ],
 "metadata": {
  "kernelspec": {
   "display_name": "Python 3",
   "language": "python",
   "name": "python3"
  },
  "language_info": {
   "codemirror_mode": {
    "name": "ipython",
    "version": 3
   },
   "file_extension": ".py",
   "mimetype": "text/x-python",
   "name": "python",
   "nbconvert_exporter": "python",
   "pygments_lexer": "ipython3",
   "version": "3.8.5"
  }
 },
 "nbformat": 4,
 "nbformat_minor": 4
}
